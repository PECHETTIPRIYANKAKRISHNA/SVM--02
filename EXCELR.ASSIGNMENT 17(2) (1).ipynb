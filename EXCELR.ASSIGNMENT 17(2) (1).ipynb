{
 "cells": [
  {
   "cell_type": "markdown",
   "id": "a8cb357b",
   "metadata": {},
   "source": [
    "### PROB 02"
   ]
  },
  {
   "cell_type": "raw",
   "id": "7acdd248",
   "metadata": {},
   "source": [
    "classify the Size_Categorie using SVM\n",
    "\n",
    "month\tmonth of the year: 'jan' to 'dec'\n",
    "day\tday of the week: 'mon' to 'sun'\n",
    "FFMC\tFFMC index from the FWI system: 18.7 to 96.20\n",
    "DMC\tDMC index from the FWI system: 1.1 to 291.3\n",
    "DC\tDC index from the FWI system: 7.9 to 860.6\n",
    "ISI\tISI index from the FWI system: 0.0 to 56.10\n",
    "temp\ttemperature in Celsius degrees: 2.2 to 33.30\n",
    "RH\trelative humidity in %: 15.0 to 100\n",
    "wind\twind speed in km/h: 0.40 to 9.40\n",
    "rain\toutside rain in mm/m2 : 0.0 to 6.4\n",
    "Size_Categorie \tthe burned area of the forest ( Small , Large)"
   ]
  },
  {
   "cell_type": "code",
   "execution_count": 1,
   "id": "5c03091a",
   "metadata": {},
   "outputs": [],
   "source": [
    "#IMPORT LIBRARIES\n",
    "import pandas as pd\n",
    "import numpy as np\n",
    "import seaborn as sns\n",
    "import matplotlib.pyplot as plt\n",
    "%matplotlib inline\n",
    "from sklearn import preprocessing\n",
    "from sklearn.svm import SVC"
   ]
  },
  {
   "cell_type": "code",
   "execution_count": 2,
   "id": "0d8119b2",
   "metadata": {},
   "outputs": [
    {
     "data": {
      "text/html": [
       "<div>\n",
       "<style scoped>\n",
       "    .dataframe tbody tr th:only-of-type {\n",
       "        vertical-align: middle;\n",
       "    }\n",
       "\n",
       "    .dataframe tbody tr th {\n",
       "        vertical-align: top;\n",
       "    }\n",
       "\n",
       "    .dataframe thead th {\n",
       "        text-align: right;\n",
       "    }\n",
       "</style>\n",
       "<table border=\"1\" class=\"dataframe\">\n",
       "  <thead>\n",
       "    <tr style=\"text-align: right;\">\n",
       "      <th></th>\n",
       "      <th>month</th>\n",
       "      <th>day</th>\n",
       "      <th>FFMC</th>\n",
       "      <th>DMC</th>\n",
       "      <th>DC</th>\n",
       "      <th>ISI</th>\n",
       "      <th>temp</th>\n",
       "      <th>RH</th>\n",
       "      <th>wind</th>\n",
       "      <th>rain</th>\n",
       "      <th>...</th>\n",
       "      <th>monthfeb</th>\n",
       "      <th>monthjan</th>\n",
       "      <th>monthjul</th>\n",
       "      <th>monthjun</th>\n",
       "      <th>monthmar</th>\n",
       "      <th>monthmay</th>\n",
       "      <th>monthnov</th>\n",
       "      <th>monthoct</th>\n",
       "      <th>monthsep</th>\n",
       "      <th>size_category</th>\n",
       "    </tr>\n",
       "  </thead>\n",
       "  <tbody>\n",
       "    <tr>\n",
       "      <th>0</th>\n",
       "      <td>mar</td>\n",
       "      <td>fri</td>\n",
       "      <td>86.2</td>\n",
       "      <td>26.2</td>\n",
       "      <td>94.3</td>\n",
       "      <td>5.1</td>\n",
       "      <td>8.2</td>\n",
       "      <td>51</td>\n",
       "      <td>6.7</td>\n",
       "      <td>0.0</td>\n",
       "      <td>...</td>\n",
       "      <td>0</td>\n",
       "      <td>0</td>\n",
       "      <td>0</td>\n",
       "      <td>0</td>\n",
       "      <td>1</td>\n",
       "      <td>0</td>\n",
       "      <td>0</td>\n",
       "      <td>0</td>\n",
       "      <td>0</td>\n",
       "      <td>small</td>\n",
       "    </tr>\n",
       "    <tr>\n",
       "      <th>1</th>\n",
       "      <td>oct</td>\n",
       "      <td>tue</td>\n",
       "      <td>90.6</td>\n",
       "      <td>35.4</td>\n",
       "      <td>669.1</td>\n",
       "      <td>6.7</td>\n",
       "      <td>18.0</td>\n",
       "      <td>33</td>\n",
       "      <td>0.9</td>\n",
       "      <td>0.0</td>\n",
       "      <td>...</td>\n",
       "      <td>0</td>\n",
       "      <td>0</td>\n",
       "      <td>0</td>\n",
       "      <td>0</td>\n",
       "      <td>0</td>\n",
       "      <td>0</td>\n",
       "      <td>0</td>\n",
       "      <td>1</td>\n",
       "      <td>0</td>\n",
       "      <td>small</td>\n",
       "    </tr>\n",
       "    <tr>\n",
       "      <th>2</th>\n",
       "      <td>oct</td>\n",
       "      <td>sat</td>\n",
       "      <td>90.6</td>\n",
       "      <td>43.7</td>\n",
       "      <td>686.9</td>\n",
       "      <td>6.7</td>\n",
       "      <td>14.6</td>\n",
       "      <td>33</td>\n",
       "      <td>1.3</td>\n",
       "      <td>0.0</td>\n",
       "      <td>...</td>\n",
       "      <td>0</td>\n",
       "      <td>0</td>\n",
       "      <td>0</td>\n",
       "      <td>0</td>\n",
       "      <td>0</td>\n",
       "      <td>0</td>\n",
       "      <td>0</td>\n",
       "      <td>1</td>\n",
       "      <td>0</td>\n",
       "      <td>small</td>\n",
       "    </tr>\n",
       "    <tr>\n",
       "      <th>3</th>\n",
       "      <td>mar</td>\n",
       "      <td>fri</td>\n",
       "      <td>91.7</td>\n",
       "      <td>33.3</td>\n",
       "      <td>77.5</td>\n",
       "      <td>9.0</td>\n",
       "      <td>8.3</td>\n",
       "      <td>97</td>\n",
       "      <td>4.0</td>\n",
       "      <td>0.2</td>\n",
       "      <td>...</td>\n",
       "      <td>0</td>\n",
       "      <td>0</td>\n",
       "      <td>0</td>\n",
       "      <td>0</td>\n",
       "      <td>1</td>\n",
       "      <td>0</td>\n",
       "      <td>0</td>\n",
       "      <td>0</td>\n",
       "      <td>0</td>\n",
       "      <td>small</td>\n",
       "    </tr>\n",
       "    <tr>\n",
       "      <th>4</th>\n",
       "      <td>mar</td>\n",
       "      <td>sun</td>\n",
       "      <td>89.3</td>\n",
       "      <td>51.3</td>\n",
       "      <td>102.2</td>\n",
       "      <td>9.6</td>\n",
       "      <td>11.4</td>\n",
       "      <td>99</td>\n",
       "      <td>1.8</td>\n",
       "      <td>0.0</td>\n",
       "      <td>...</td>\n",
       "      <td>0</td>\n",
       "      <td>0</td>\n",
       "      <td>0</td>\n",
       "      <td>0</td>\n",
       "      <td>1</td>\n",
       "      <td>0</td>\n",
       "      <td>0</td>\n",
       "      <td>0</td>\n",
       "      <td>0</td>\n",
       "      <td>small</td>\n",
       "    </tr>\n",
       "  </tbody>\n",
       "</table>\n",
       "<p>5 rows × 31 columns</p>\n",
       "</div>"
      ],
      "text/plain": [
       "  month  day  FFMC   DMC     DC  ISI  temp  RH  wind  rain  ...  monthfeb  \\\n",
       "0   mar  fri  86.2  26.2   94.3  5.1   8.2  51   6.7   0.0  ...         0   \n",
       "1   oct  tue  90.6  35.4  669.1  6.7  18.0  33   0.9   0.0  ...         0   \n",
       "2   oct  sat  90.6  43.7  686.9  6.7  14.6  33   1.3   0.0  ...         0   \n",
       "3   mar  fri  91.7  33.3   77.5  9.0   8.3  97   4.0   0.2  ...         0   \n",
       "4   mar  sun  89.3  51.3  102.2  9.6  11.4  99   1.8   0.0  ...         0   \n",
       "\n",
       "   monthjan  monthjul  monthjun  monthmar  monthmay  monthnov  monthoct  \\\n",
       "0         0         0         0         1         0         0         0   \n",
       "1         0         0         0         0         0         0         1   \n",
       "2         0         0         0         0         0         0         1   \n",
       "3         0         0         0         1         0         0         0   \n",
       "4         0         0         0         1         0         0         0   \n",
       "\n",
       "   monthsep  size_category  \n",
       "0         0          small  \n",
       "1         0          small  \n",
       "2         0          small  \n",
       "3         0          small  \n",
       "4         0          small  \n",
       "\n",
       "[5 rows x 31 columns]"
      ]
     },
     "execution_count": 2,
     "metadata": {},
     "output_type": "execute_result"
    }
   ],
   "source": [
    "#import the data set\n",
    "forest_fires=pd.read_csv(\"C:\\\\Users\\\\PRIYANKA\\\\Downloads\\\\forestfires (2).csv\")\n",
    "forest_fires.head()"
   ]
  },
  {
   "cell_type": "code",
   "execution_count": 3,
   "id": "c685008c",
   "metadata": {},
   "outputs": [],
   "source": [
    "label_encoder=preprocessing.LabelEncoder()\n",
    "forest_fires['month']=label_encoder.fit_transform(forest_fires['month'])\n",
    "forest_fires['day']=label_encoder.fit_transform(forest_fires['day'])"
   ]
  },
  {
   "cell_type": "code",
   "execution_count": 4,
   "id": "7903dba6",
   "metadata": {},
   "outputs": [
    {
     "data": {
      "text/html": [
       "<div>\n",
       "<style scoped>\n",
       "    .dataframe tbody tr th:only-of-type {\n",
       "        vertical-align: middle;\n",
       "    }\n",
       "\n",
       "    .dataframe tbody tr th {\n",
       "        vertical-align: top;\n",
       "    }\n",
       "\n",
       "    .dataframe thead th {\n",
       "        text-align: right;\n",
       "    }\n",
       "</style>\n",
       "<table border=\"1\" class=\"dataframe\">\n",
       "  <thead>\n",
       "    <tr style=\"text-align: right;\">\n",
       "      <th></th>\n",
       "      <th>month</th>\n",
       "      <th>day</th>\n",
       "      <th>FFMC</th>\n",
       "      <th>DMC</th>\n",
       "      <th>DC</th>\n",
       "      <th>ISI</th>\n",
       "      <th>temp</th>\n",
       "      <th>RH</th>\n",
       "      <th>wind</th>\n",
       "      <th>rain</th>\n",
       "      <th>...</th>\n",
       "      <th>monthfeb</th>\n",
       "      <th>monthjan</th>\n",
       "      <th>monthjul</th>\n",
       "      <th>monthjun</th>\n",
       "      <th>monthmar</th>\n",
       "      <th>monthmay</th>\n",
       "      <th>monthnov</th>\n",
       "      <th>monthoct</th>\n",
       "      <th>monthsep</th>\n",
       "      <th>size_category</th>\n",
       "    </tr>\n",
       "  </thead>\n",
       "  <tbody>\n",
       "    <tr>\n",
       "      <th>0</th>\n",
       "      <td>7</td>\n",
       "      <td>0</td>\n",
       "      <td>86.2</td>\n",
       "      <td>26.2</td>\n",
       "      <td>94.3</td>\n",
       "      <td>5.1</td>\n",
       "      <td>8.2</td>\n",
       "      <td>51</td>\n",
       "      <td>6.7</td>\n",
       "      <td>0.0</td>\n",
       "      <td>...</td>\n",
       "      <td>0</td>\n",
       "      <td>0</td>\n",
       "      <td>0</td>\n",
       "      <td>0</td>\n",
       "      <td>1</td>\n",
       "      <td>0</td>\n",
       "      <td>0</td>\n",
       "      <td>0</td>\n",
       "      <td>0</td>\n",
       "      <td>small</td>\n",
       "    </tr>\n",
       "    <tr>\n",
       "      <th>1</th>\n",
       "      <td>10</td>\n",
       "      <td>5</td>\n",
       "      <td>90.6</td>\n",
       "      <td>35.4</td>\n",
       "      <td>669.1</td>\n",
       "      <td>6.7</td>\n",
       "      <td>18.0</td>\n",
       "      <td>33</td>\n",
       "      <td>0.9</td>\n",
       "      <td>0.0</td>\n",
       "      <td>...</td>\n",
       "      <td>0</td>\n",
       "      <td>0</td>\n",
       "      <td>0</td>\n",
       "      <td>0</td>\n",
       "      <td>0</td>\n",
       "      <td>0</td>\n",
       "      <td>0</td>\n",
       "      <td>1</td>\n",
       "      <td>0</td>\n",
       "      <td>small</td>\n",
       "    </tr>\n",
       "    <tr>\n",
       "      <th>2</th>\n",
       "      <td>10</td>\n",
       "      <td>2</td>\n",
       "      <td>90.6</td>\n",
       "      <td>43.7</td>\n",
       "      <td>686.9</td>\n",
       "      <td>6.7</td>\n",
       "      <td>14.6</td>\n",
       "      <td>33</td>\n",
       "      <td>1.3</td>\n",
       "      <td>0.0</td>\n",
       "      <td>...</td>\n",
       "      <td>0</td>\n",
       "      <td>0</td>\n",
       "      <td>0</td>\n",
       "      <td>0</td>\n",
       "      <td>0</td>\n",
       "      <td>0</td>\n",
       "      <td>0</td>\n",
       "      <td>1</td>\n",
       "      <td>0</td>\n",
       "      <td>small</td>\n",
       "    </tr>\n",
       "    <tr>\n",
       "      <th>3</th>\n",
       "      <td>7</td>\n",
       "      <td>0</td>\n",
       "      <td>91.7</td>\n",
       "      <td>33.3</td>\n",
       "      <td>77.5</td>\n",
       "      <td>9.0</td>\n",
       "      <td>8.3</td>\n",
       "      <td>97</td>\n",
       "      <td>4.0</td>\n",
       "      <td>0.2</td>\n",
       "      <td>...</td>\n",
       "      <td>0</td>\n",
       "      <td>0</td>\n",
       "      <td>0</td>\n",
       "      <td>0</td>\n",
       "      <td>1</td>\n",
       "      <td>0</td>\n",
       "      <td>0</td>\n",
       "      <td>0</td>\n",
       "      <td>0</td>\n",
       "      <td>small</td>\n",
       "    </tr>\n",
       "    <tr>\n",
       "      <th>4</th>\n",
       "      <td>7</td>\n",
       "      <td>3</td>\n",
       "      <td>89.3</td>\n",
       "      <td>51.3</td>\n",
       "      <td>102.2</td>\n",
       "      <td>9.6</td>\n",
       "      <td>11.4</td>\n",
       "      <td>99</td>\n",
       "      <td>1.8</td>\n",
       "      <td>0.0</td>\n",
       "      <td>...</td>\n",
       "      <td>0</td>\n",
       "      <td>0</td>\n",
       "      <td>0</td>\n",
       "      <td>0</td>\n",
       "      <td>1</td>\n",
       "      <td>0</td>\n",
       "      <td>0</td>\n",
       "      <td>0</td>\n",
       "      <td>0</td>\n",
       "      <td>small</td>\n",
       "    </tr>\n",
       "    <tr>\n",
       "      <th>...</th>\n",
       "      <td>...</td>\n",
       "      <td>...</td>\n",
       "      <td>...</td>\n",
       "      <td>...</td>\n",
       "      <td>...</td>\n",
       "      <td>...</td>\n",
       "      <td>...</td>\n",
       "      <td>...</td>\n",
       "      <td>...</td>\n",
       "      <td>...</td>\n",
       "      <td>...</td>\n",
       "      <td>...</td>\n",
       "      <td>...</td>\n",
       "      <td>...</td>\n",
       "      <td>...</td>\n",
       "      <td>...</td>\n",
       "      <td>...</td>\n",
       "      <td>...</td>\n",
       "      <td>...</td>\n",
       "      <td>...</td>\n",
       "      <td>...</td>\n",
       "    </tr>\n",
       "    <tr>\n",
       "      <th>512</th>\n",
       "      <td>1</td>\n",
       "      <td>3</td>\n",
       "      <td>81.6</td>\n",
       "      <td>56.7</td>\n",
       "      <td>665.6</td>\n",
       "      <td>1.9</td>\n",
       "      <td>27.8</td>\n",
       "      <td>32</td>\n",
       "      <td>2.7</td>\n",
       "      <td>0.0</td>\n",
       "      <td>...</td>\n",
       "      <td>0</td>\n",
       "      <td>0</td>\n",
       "      <td>0</td>\n",
       "      <td>0</td>\n",
       "      <td>0</td>\n",
       "      <td>0</td>\n",
       "      <td>0</td>\n",
       "      <td>0</td>\n",
       "      <td>0</td>\n",
       "      <td>large</td>\n",
       "    </tr>\n",
       "    <tr>\n",
       "      <th>513</th>\n",
       "      <td>1</td>\n",
       "      <td>3</td>\n",
       "      <td>81.6</td>\n",
       "      <td>56.7</td>\n",
       "      <td>665.6</td>\n",
       "      <td>1.9</td>\n",
       "      <td>21.9</td>\n",
       "      <td>71</td>\n",
       "      <td>5.8</td>\n",
       "      <td>0.0</td>\n",
       "      <td>...</td>\n",
       "      <td>0</td>\n",
       "      <td>0</td>\n",
       "      <td>0</td>\n",
       "      <td>0</td>\n",
       "      <td>0</td>\n",
       "      <td>0</td>\n",
       "      <td>0</td>\n",
       "      <td>0</td>\n",
       "      <td>0</td>\n",
       "      <td>large</td>\n",
       "    </tr>\n",
       "    <tr>\n",
       "      <th>514</th>\n",
       "      <td>1</td>\n",
       "      <td>3</td>\n",
       "      <td>81.6</td>\n",
       "      <td>56.7</td>\n",
       "      <td>665.6</td>\n",
       "      <td>1.9</td>\n",
       "      <td>21.2</td>\n",
       "      <td>70</td>\n",
       "      <td>6.7</td>\n",
       "      <td>0.0</td>\n",
       "      <td>...</td>\n",
       "      <td>0</td>\n",
       "      <td>0</td>\n",
       "      <td>0</td>\n",
       "      <td>0</td>\n",
       "      <td>0</td>\n",
       "      <td>0</td>\n",
       "      <td>0</td>\n",
       "      <td>0</td>\n",
       "      <td>0</td>\n",
       "      <td>large</td>\n",
       "    </tr>\n",
       "    <tr>\n",
       "      <th>515</th>\n",
       "      <td>1</td>\n",
       "      <td>2</td>\n",
       "      <td>94.4</td>\n",
       "      <td>146.0</td>\n",
       "      <td>614.7</td>\n",
       "      <td>11.3</td>\n",
       "      <td>25.6</td>\n",
       "      <td>42</td>\n",
       "      <td>4.0</td>\n",
       "      <td>0.0</td>\n",
       "      <td>...</td>\n",
       "      <td>0</td>\n",
       "      <td>0</td>\n",
       "      <td>0</td>\n",
       "      <td>0</td>\n",
       "      <td>0</td>\n",
       "      <td>0</td>\n",
       "      <td>0</td>\n",
       "      <td>0</td>\n",
       "      <td>0</td>\n",
       "      <td>small</td>\n",
       "    </tr>\n",
       "    <tr>\n",
       "      <th>516</th>\n",
       "      <td>9</td>\n",
       "      <td>5</td>\n",
       "      <td>79.5</td>\n",
       "      <td>3.0</td>\n",
       "      <td>106.7</td>\n",
       "      <td>1.1</td>\n",
       "      <td>11.8</td>\n",
       "      <td>31</td>\n",
       "      <td>4.5</td>\n",
       "      <td>0.0</td>\n",
       "      <td>...</td>\n",
       "      <td>0</td>\n",
       "      <td>0</td>\n",
       "      <td>0</td>\n",
       "      <td>0</td>\n",
       "      <td>0</td>\n",
       "      <td>0</td>\n",
       "      <td>1</td>\n",
       "      <td>0</td>\n",
       "      <td>0</td>\n",
       "      <td>small</td>\n",
       "    </tr>\n",
       "  </tbody>\n",
       "</table>\n",
       "<p>517 rows × 31 columns</p>\n",
       "</div>"
      ],
      "text/plain": [
       "     month  day  FFMC    DMC     DC   ISI  temp  RH  wind  rain  ...  \\\n",
       "0        7    0  86.2   26.2   94.3   5.1   8.2  51   6.7   0.0  ...   \n",
       "1       10    5  90.6   35.4  669.1   6.7  18.0  33   0.9   0.0  ...   \n",
       "2       10    2  90.6   43.7  686.9   6.7  14.6  33   1.3   0.0  ...   \n",
       "3        7    0  91.7   33.3   77.5   9.0   8.3  97   4.0   0.2  ...   \n",
       "4        7    3  89.3   51.3  102.2   9.6  11.4  99   1.8   0.0  ...   \n",
       "..     ...  ...   ...    ...    ...   ...   ...  ..   ...   ...  ...   \n",
       "512      1    3  81.6   56.7  665.6   1.9  27.8  32   2.7   0.0  ...   \n",
       "513      1    3  81.6   56.7  665.6   1.9  21.9  71   5.8   0.0  ...   \n",
       "514      1    3  81.6   56.7  665.6   1.9  21.2  70   6.7   0.0  ...   \n",
       "515      1    2  94.4  146.0  614.7  11.3  25.6  42   4.0   0.0  ...   \n",
       "516      9    5  79.5    3.0  106.7   1.1  11.8  31   4.5   0.0  ...   \n",
       "\n",
       "     monthfeb  monthjan  monthjul  monthjun  monthmar  monthmay  monthnov  \\\n",
       "0           0         0         0         0         1         0         0   \n",
       "1           0         0         0         0         0         0         0   \n",
       "2           0         0         0         0         0         0         0   \n",
       "3           0         0         0         0         1         0         0   \n",
       "4           0         0         0         0         1         0         0   \n",
       "..        ...       ...       ...       ...       ...       ...       ...   \n",
       "512         0         0         0         0         0         0         0   \n",
       "513         0         0         0         0         0         0         0   \n",
       "514         0         0         0         0         0         0         0   \n",
       "515         0         0         0         0         0         0         0   \n",
       "516         0         0         0         0         0         0         1   \n",
       "\n",
       "     monthoct  monthsep  size_category  \n",
       "0           0         0          small  \n",
       "1           1         0          small  \n",
       "2           1         0          small  \n",
       "3           0         0          small  \n",
       "4           0         0          small  \n",
       "..        ...       ...            ...  \n",
       "512         0         0          large  \n",
       "513         0         0          large  \n",
       "514         0         0          large  \n",
       "515         0         0          small  \n",
       "516         0         0          small  \n",
       "\n",
       "[517 rows x 31 columns]"
      ]
     },
     "execution_count": 4,
     "metadata": {},
     "output_type": "execute_result"
    }
   ],
   "source": [
    "forest_fires"
   ]
  },
  {
   "cell_type": "code",
   "execution_count": 5,
   "id": "c3818024",
   "metadata": {},
   "outputs": [],
   "source": [
    "from sklearn.model_selection import train_test_split\n",
    "train,test=train_test_split(forest_fires,test_size=0.3,random_state=0)"
   ]
  },
  {
   "cell_type": "code",
   "execution_count": 6,
   "id": "14d2a07d",
   "metadata": {},
   "outputs": [
    {
     "data": {
      "text/plain": [
       "['month',\n",
       " 'day',\n",
       " 'FFMC',\n",
       " 'DMC',\n",
       " 'DC',\n",
       " 'ISI',\n",
       " 'temp',\n",
       " 'RH',\n",
       " 'wind',\n",
       " 'rain',\n",
       " 'area',\n",
       " 'dayfri',\n",
       " 'daymon',\n",
       " 'daysat',\n",
       " 'daysun',\n",
       " 'daythu',\n",
       " 'daytue',\n",
       " 'daywed',\n",
       " 'monthapr',\n",
       " 'monthaug',\n",
       " 'monthdec',\n",
       " 'monthfeb',\n",
       " 'monthjan',\n",
       " 'monthjul',\n",
       " 'monthjun',\n",
       " 'monthmar',\n",
       " 'monthmay',\n",
       " 'monthnov',\n",
       " 'monthoct',\n",
       " 'monthsep',\n",
       " 'size_category']"
      ]
     },
     "execution_count": 6,
     "metadata": {},
     "output_type": "execute_result"
    }
   ],
   "source": [
    "columns=list(forest_fires.columns)\n",
    "columns"
   ]
  },
  {
   "cell_type": "code",
   "execution_count": 7,
   "id": "9c36e6c4",
   "metadata": {},
   "outputs": [],
   "source": [
    "predictors=columns[0:30]\n",
    "target=columns[30]"
   ]
  },
  {
   "cell_type": "code",
   "execution_count": 8,
   "id": "eb188512",
   "metadata": {},
   "outputs": [
    {
     "data": {
      "text/plain": [
       "['month',\n",
       " 'day',\n",
       " 'FFMC',\n",
       " 'DMC',\n",
       " 'DC',\n",
       " 'ISI',\n",
       " 'temp',\n",
       " 'RH',\n",
       " 'wind',\n",
       " 'rain',\n",
       " 'area',\n",
       " 'dayfri',\n",
       " 'daymon',\n",
       " 'daysat',\n",
       " 'daysun',\n",
       " 'daythu',\n",
       " 'daytue',\n",
       " 'daywed',\n",
       " 'monthapr',\n",
       " 'monthaug',\n",
       " 'monthdec',\n",
       " 'monthfeb',\n",
       " 'monthjan',\n",
       " 'monthjul',\n",
       " 'monthjun',\n",
       " 'monthmar',\n",
       " 'monthmay',\n",
       " 'monthnov',\n",
       " 'monthoct',\n",
       " 'monthsep']"
      ]
     },
     "execution_count": 8,
     "metadata": {},
     "output_type": "execute_result"
    }
   ],
   "source": [
    "predictors"
   ]
  },
  {
   "cell_type": "code",
   "execution_count": 9,
   "id": "e41dc383",
   "metadata": {},
   "outputs": [
    {
     "data": {
      "text/plain": [
       "'size_category'"
      ]
     },
     "execution_count": 9,
     "metadata": {},
     "output_type": "execute_result"
    }
   ],
   "source": [
    "target"
   ]
  },
  {
   "cell_type": "markdown",
   "id": "442b97b7",
   "metadata": {},
   "source": [
    "#SVM CLASSIFICATION USING KERNALS : LINEAR,POLY,RBF(RADIUS BIAS FUNCTION)\n"
   ]
  },
  {
   "cell_type": "code",
   "execution_count": 12,
   "id": "82f81329",
   "metadata": {},
   "outputs": [
    {
     "data": {
      "text/plain": [
       "SVC(kernel='linear')"
      ]
     },
     "execution_count": 12,
     "metadata": {},
     "output_type": "execute_result"
    }
   ],
   "source": [
    "#KERNAL =LINEAR\n",
    "model_linear = SVC(kernel='linear')\n",
    "model_linear"
   ]
  },
  {
   "cell_type": "code",
   "execution_count": 13,
   "id": "bded0b85",
   "metadata": {},
   "outputs": [
    {
     "data": {
      "text/plain": [
       "SVC(kernel='linear')"
      ]
     },
     "execution_count": 13,
     "metadata": {},
     "output_type": "execute_result"
    }
   ],
   "source": [
    "model_linear.fit(train[predictors],train[target])"
   ]
  },
  {
   "cell_type": "code",
   "execution_count": 14,
   "id": "7cf6b0df",
   "metadata": {},
   "outputs": [
    {
     "data": {
      "text/plain": [
       "array(['large', 'small', 'small', 'small', 'small', 'large', 'small',\n",
       "       'small', 'small', 'small', 'large', 'small', 'small', 'small',\n",
       "       'large', 'small', 'large', 'small', 'small', 'small', 'small',\n",
       "       'large', 'large', 'small', 'small', 'large', 'small', 'small',\n",
       "       'large', 'small', 'small', 'small', 'large', 'small', 'large',\n",
       "       'small', 'small', 'small', 'small', 'small', 'large', 'large',\n",
       "       'small', 'large', 'small', 'small', 'large', 'small', 'large',\n",
       "       'large', 'small', 'small', 'small', 'small', 'small', 'large',\n",
       "       'small', 'small', 'small', 'small', 'small', 'small', 'small',\n",
       "       'small', 'large', 'small', 'small', 'large', 'small', 'small',\n",
       "       'large', 'small', 'small', 'large', 'small', 'small', 'large',\n",
       "       'small', 'small', 'small', 'small', 'small', 'small', 'small',\n",
       "       'small', 'small', 'small', 'small', 'small', 'small', 'small',\n",
       "       'small', 'large', 'small', 'large', 'small', 'large', 'small',\n",
       "       'small', 'small', 'small', 'small', 'small', 'small', 'large',\n",
       "       'small', 'small', 'small', 'small', 'small', 'large', 'large',\n",
       "       'small', 'small', 'large', 'small', 'small', 'small', 'small',\n",
       "       'small', 'large', 'large', 'large', 'small', 'small', 'small',\n",
       "       'small', 'small', 'small', 'small', 'large', 'small', 'small',\n",
       "       'large', 'small', 'large', 'small', 'large', 'large', 'small',\n",
       "       'large', 'large', 'small', 'small', 'small', 'large', 'small',\n",
       "       'large', 'small', 'small', 'small', 'small', 'small', 'small',\n",
       "       'large', 'small', 'small', 'small', 'small', 'small', 'small',\n",
       "       'large', 'small', 'large', 'small', 'small', 'small', 'large',\n",
       "       'small', 'small', 'small', 'small', 'small', 'small', 'small',\n",
       "       'small', 'large', 'large', 'small', 'small', 'small', 'small',\n",
       "       'small', 'small', 'small', 'small', 'small', 'small', 'small',\n",
       "       'large', 'small', 'small', 'small', 'small', 'large', 'small',\n",
       "       'small', 'large', 'small', 'small', 'small', 'large', 'small',\n",
       "       'large', 'small', 'small', 'small', 'small', 'small', 'small',\n",
       "       'small', 'small', 'small', 'small', 'small', 'small', 'small',\n",
       "       'small', 'small', 'large', 'small', 'large', 'small', 'small',\n",
       "       'large', 'small', 'large', 'large', 'small', 'large', 'small',\n",
       "       'large', 'small', 'large', 'small', 'large', 'large', 'large',\n",
       "       'large', 'small', 'small', 'small', 'small', 'small', 'small',\n",
       "       'small', 'large', 'small', 'small', 'small', 'small', 'small',\n",
       "       'small', 'small', 'small', 'small', 'small', 'small', 'large',\n",
       "       'large', 'large', 'small', 'small', 'small', 'small', 'small',\n",
       "       'small', 'large', 'small', 'small', 'small', 'large', 'small',\n",
       "       'small', 'small', 'small', 'small', 'small', 'large', 'large',\n",
       "       'small', 'small', 'small', 'small', 'small', 'small', 'large',\n",
       "       'small', 'small', 'large', 'small', 'small', 'large', 'small',\n",
       "       'small', 'small', 'large', 'small', 'large', 'large', 'small',\n",
       "       'small', 'small', 'large', 'small', 'small', 'small', 'small',\n",
       "       'large', 'large', 'small', 'small', 'small', 'small', 'large',\n",
       "       'small', 'small', 'small', 'large', 'small', 'small', 'small',\n",
       "       'small', 'small', 'small', 'small', 'small', 'small', 'small',\n",
       "       'small', 'small', 'large', 'small', 'large', 'small', 'large',\n",
       "       'small', 'small', 'small', 'large', 'small', 'small', 'small',\n",
       "       'small', 'small', 'large', 'small', 'small', 'small', 'small',\n",
       "       'small', 'large', 'small', 'small', 'small', 'small', 'small',\n",
       "       'large', 'small', 'large', 'large'], dtype=object)"
      ]
     },
     "execution_count": 14,
     "metadata": {},
     "output_type": "execute_result"
    }
   ],
   "source": [
    "train_pred_linear=model_linear.predict(train[predictors])\n",
    "train_pred_linear"
   ]
  },
  {
   "cell_type": "code",
   "execution_count": 15,
   "id": "3a627a09",
   "metadata": {},
   "outputs": [
    {
     "data": {
      "text/plain": [
       "array(['large', 'small', 'small', 'large', 'small', 'small', 'small',\n",
       "       'small', 'large', 'small', 'small', 'large', 'large', 'small',\n",
       "       'large', 'small', 'small', 'large', 'small', 'large', 'small',\n",
       "       'small', 'small', 'large', 'large', 'large', 'small', 'small',\n",
       "       'small', 'small', 'small', 'small', 'small', 'large', 'large',\n",
       "       'large', 'small', 'small', 'large', 'small', 'large', 'small',\n",
       "       'small', 'small', 'small', 'small', 'large', 'small', 'small',\n",
       "       'small', 'small', 'large', 'small', 'large', 'large', 'small',\n",
       "       'small', 'small', 'large', 'large', 'small', 'small', 'large',\n",
       "       'large', 'large', 'large', 'small', 'small', 'small', 'large',\n",
       "       'large', 'small', 'small', 'small', 'small', 'small', 'small',\n",
       "       'small', 'large', 'small', 'small', 'small', 'small', 'small',\n",
       "       'small', 'large', 'small', 'large', 'small', 'small', 'large',\n",
       "       'large', 'small', 'small', 'small', 'small', 'small', 'small',\n",
       "       'small', 'small', 'small', 'small', 'small', 'small', 'large',\n",
       "       'small', 'large', 'small', 'large', 'small', 'small', 'small',\n",
       "       'small', 'small', 'large', 'large', 'large', 'small', 'large',\n",
       "       'small', 'small', 'small', 'large', 'small', 'small', 'small',\n",
       "       'small', 'small', 'small', 'small', 'small', 'small', 'small',\n",
       "       'small', 'small', 'small', 'small', 'small', 'small', 'large',\n",
       "       'large', 'small', 'small', 'small', 'small', 'large', 'large',\n",
       "       'small', 'large', 'small', 'small', 'small', 'large', 'small',\n",
       "       'large', 'large'], dtype=object)"
      ]
     },
     "execution_count": 15,
     "metadata": {},
     "output_type": "execute_result"
    }
   ],
   "source": [
    "test_pred_linear=model_linear.predict(test[predictors])\n",
    "test_pred_linear"
   ]
  },
  {
   "cell_type": "code",
   "execution_count": 17,
   "id": "0aa3e93c",
   "metadata": {},
   "outputs": [
    {
     "data": {
      "text/plain": [
       "1.0"
      ]
     },
     "execution_count": 17,
     "metadata": {},
     "output_type": "execute_result"
    }
   ],
   "source": [
    "train_linear_accuracy=np.mean(train_pred_linear==train[target])\n",
    "train_linear_accuracy"
   ]
  },
  {
   "cell_type": "code",
   "execution_count": 18,
   "id": "1b82562e",
   "metadata": {},
   "outputs": [
    {
     "data": {
      "text/plain": [
       "0.967948717948718"
      ]
     },
     "execution_count": 18,
     "metadata": {},
     "output_type": "execute_result"
    }
   ],
   "source": [
    "test_linear_accuracy=np.mean(test_pred_linear==test[target])\n",
    "test_linear_accuracy"
   ]
  },
  {
   "cell_type": "code",
   "execution_count": 19,
   "id": "62db94b1",
   "metadata": {},
   "outputs": [],
   "source": [
    "#KERNAL=POLY"
   ]
  },
  {
   "cell_type": "code",
   "execution_count": 20,
   "id": "84d19e52",
   "metadata": {},
   "outputs": [
    {
     "data": {
      "text/plain": [
       "SVC(kernel='poly')"
      ]
     },
     "execution_count": 20,
     "metadata": {},
     "output_type": "execute_result"
    }
   ],
   "source": [
    "model_poly=SVC(kernel='poly')\n",
    "model_poly"
   ]
  },
  {
   "cell_type": "code",
   "execution_count": 22,
   "id": "6eed0ed7",
   "metadata": {},
   "outputs": [
    {
     "data": {
      "text/plain": [
       "SVC(kernel='poly')"
      ]
     },
     "execution_count": 22,
     "metadata": {},
     "output_type": "execute_result"
    }
   ],
   "source": [
    "model_poly.fit(train[predictors],train[target])\n",
    "model_poly"
   ]
  },
  {
   "cell_type": "code",
   "execution_count": 24,
   "id": "7905e34f",
   "metadata": {},
   "outputs": [
    {
     "data": {
      "text/plain": [
       "array(['small', 'small', 'small', 'small', 'small', 'small', 'small',\n",
       "       'small', 'small', 'small', 'small', 'small', 'small', 'small',\n",
       "       'small', 'small', 'small', 'small', 'small', 'small', 'small',\n",
       "       'small', 'small', 'small', 'small', 'small', 'small', 'small',\n",
       "       'small', 'small', 'small', 'small', 'small', 'small', 'small',\n",
       "       'small', 'small', 'small', 'small', 'small', 'small', 'small',\n",
       "       'small', 'small', 'small', 'small', 'small', 'small', 'small',\n",
       "       'small', 'small', 'small', 'small', 'small', 'small', 'small',\n",
       "       'small', 'small', 'small', 'small', 'small', 'small', 'small',\n",
       "       'small', 'small', 'small', 'small', 'small', 'small', 'small',\n",
       "       'small', 'small', 'small', 'small', 'small', 'small', 'small',\n",
       "       'small', 'small', 'small', 'small', 'small', 'small', 'small',\n",
       "       'small', 'small', 'small', 'small', 'small', 'small', 'small',\n",
       "       'small', 'small', 'small', 'small', 'small', 'small', 'small',\n",
       "       'small', 'small', 'small', 'small', 'small', 'small', 'large',\n",
       "       'small', 'small', 'small', 'small', 'small', 'small', 'large',\n",
       "       'small', 'small', 'small', 'small', 'small', 'small', 'small',\n",
       "       'small', 'small', 'small', 'small', 'small', 'small', 'small',\n",
       "       'small', 'small', 'small', 'small', 'small', 'small', 'small',\n",
       "       'small', 'small', 'small', 'small', 'small', 'small', 'small',\n",
       "       'small', 'large', 'small', 'small', 'small', 'small', 'small',\n",
       "       'small', 'small', 'small', 'small', 'small', 'small', 'small',\n",
       "       'small', 'small', 'small', 'small', 'small', 'small', 'small',\n",
       "       'small', 'small', 'large', 'small', 'small', 'small', 'small',\n",
       "       'small', 'small', 'small', 'small', 'small', 'small', 'small',\n",
       "       'small', 'large', 'small', 'small', 'small', 'small', 'small',\n",
       "       'small', 'small', 'small', 'small', 'small', 'small', 'small',\n",
       "       'small', 'small', 'small', 'small', 'small', 'small', 'small',\n",
       "       'small', 'small', 'small', 'small', 'small', 'small', 'small',\n",
       "       'small', 'small', 'small', 'small', 'small', 'small', 'small',\n",
       "       'small', 'small', 'small', 'small', 'small', 'small', 'small',\n",
       "       'small', 'small', 'small', 'small', 'small', 'small', 'small',\n",
       "       'small', 'small', 'small', 'large', 'small', 'small', 'small',\n",
       "       'small', 'small', 'small', 'small', 'small', 'small', 'small',\n",
       "       'small', 'small', 'small', 'small', 'small', 'small', 'small',\n",
       "       'small', 'small', 'small', 'small', 'small', 'small', 'small',\n",
       "       'small', 'small', 'small', 'small', 'small', 'small', 'small',\n",
       "       'small', 'small', 'small', 'small', 'small', 'small', 'small',\n",
       "       'small', 'small', 'small', 'small', 'small', 'small', 'small',\n",
       "       'small', 'small', 'small', 'small', 'small', 'large', 'small',\n",
       "       'small', 'small', 'small', 'small', 'small', 'small', 'small',\n",
       "       'small', 'small', 'small', 'small', 'small', 'small', 'small',\n",
       "       'small', 'small', 'small', 'small', 'small', 'small', 'small',\n",
       "       'small', 'small', 'large', 'small', 'small', 'small', 'small',\n",
       "       'small', 'small', 'small', 'small', 'small', 'small', 'small',\n",
       "       'small', 'small', 'small', 'small', 'small', 'small', 'small',\n",
       "       'small', 'small', 'small', 'small', 'small', 'small', 'small',\n",
       "       'small', 'small', 'small', 'small', 'small', 'small', 'small',\n",
       "       'small', 'small', 'small', 'small', 'small', 'small', 'small',\n",
       "       'small', 'small', 'large', 'small', 'small', 'small', 'small',\n",
       "       'small', 'small', 'small', 'small', 'small', 'small', 'small',\n",
       "       'small', 'small', 'small', 'small'], dtype=object)"
      ]
     },
     "execution_count": 24,
     "metadata": {},
     "output_type": "execute_result"
    }
   ],
   "source": [
    "train_pred_poly=model_poly.predict(train[predictors])\n",
    "train_pred_poly"
   ]
  },
  {
   "cell_type": "code",
   "execution_count": 25,
   "id": "c74a0340",
   "metadata": {},
   "outputs": [
    {
     "data": {
      "text/plain": [
       "array(['small', 'small', 'small', 'large', 'small', 'small', 'small',\n",
       "       'small', 'small', 'small', 'small', 'small', 'small', 'small',\n",
       "       'small', 'small', 'small', 'small', 'small', 'small', 'small',\n",
       "       'small', 'small', 'small', 'large', 'small', 'small', 'small',\n",
       "       'small', 'small', 'small', 'small', 'small', 'small', 'small',\n",
       "       'large', 'small', 'small', 'large', 'small', 'small', 'small',\n",
       "       'small', 'small', 'small', 'small', 'small', 'small', 'small',\n",
       "       'small', 'small', 'small', 'small', 'small', 'small', 'small',\n",
       "       'small', 'small', 'small', 'small', 'small', 'small', 'small',\n",
       "       'small', 'small', 'large', 'small', 'small', 'small', 'small',\n",
       "       'small', 'small', 'small', 'small', 'small', 'small', 'small',\n",
       "       'small', 'small', 'small', 'small', 'small', 'small', 'small',\n",
       "       'small', 'small', 'small', 'small', 'small', 'small', 'small',\n",
       "       'large', 'small', 'small', 'small', 'small', 'small', 'small',\n",
       "       'small', 'small', 'small', 'small', 'small', 'small', 'small',\n",
       "       'small', 'large', 'small', 'small', 'small', 'small', 'small',\n",
       "       'small', 'small', 'small', 'small', 'small', 'small', 'small',\n",
       "       'small', 'small', 'small', 'small', 'small', 'small', 'small',\n",
       "       'small', 'small', 'small', 'small', 'small', 'small', 'small',\n",
       "       'small', 'small', 'small', 'small', 'small', 'small', 'small',\n",
       "       'large', 'small', 'small', 'small', 'small', 'small', 'small',\n",
       "       'small', 'small', 'small', 'small', 'small', 'small', 'small',\n",
       "       'small', 'small'], dtype=object)"
      ]
     },
     "execution_count": 25,
     "metadata": {},
     "output_type": "execute_result"
    }
   ],
   "source": [
    "test_pred_poly=model_poly.predict(test[predictors])\n",
    "test_pred_poly"
   ]
  },
  {
   "cell_type": "code",
   "execution_count": 28,
   "id": "6e731980",
   "metadata": {},
   "outputs": [
    {
     "data": {
      "text/plain": [
       "0.7673130193905817"
      ]
     },
     "execution_count": 28,
     "metadata": {},
     "output_type": "execute_result"
    }
   ],
   "source": [
    "train_poly_accuracy=np.mean(train_pred_poly==train[target])\n",
    "train_poly_accuracy"
   ]
  },
  {
   "cell_type": "code",
   "execution_count": 29,
   "id": "88a7c07c",
   "metadata": {},
   "outputs": [
    {
     "data": {
      "text/plain": [
       "0.7564102564102564"
      ]
     },
     "execution_count": 29,
     "metadata": {},
     "output_type": "execute_result"
    }
   ],
   "source": [
    "test_poly_accuracy=np.mean(test_pred_poly==test[target])\n",
    "test_poly_accuracy"
   ]
  },
  {
   "cell_type": "code",
   "execution_count": 30,
   "id": "eabe887f",
   "metadata": {},
   "outputs": [],
   "source": [
    "#KERNEL = RBF\n"
   ]
  },
  {
   "cell_type": "code",
   "execution_count": 31,
   "id": "794ef405",
   "metadata": {},
   "outputs": [
    {
     "data": {
      "text/plain": [
       "SVC()"
      ]
     },
     "execution_count": 31,
     "metadata": {},
     "output_type": "execute_result"
    }
   ],
   "source": [
    "model_rbf=SVC(kernel='rbf')\n",
    "model_rbf"
   ]
  },
  {
   "cell_type": "code",
   "execution_count": 32,
   "id": "42a9cf7b",
   "metadata": {},
   "outputs": [
    {
     "data": {
      "text/plain": [
       "SVC()"
      ]
     },
     "execution_count": 32,
     "metadata": {},
     "output_type": "execute_result"
    }
   ],
   "source": [
    "model_rbf.fit(train[predictors],train[target])\n",
    "model_rbf"
   ]
  },
  {
   "cell_type": "code",
   "execution_count": 33,
   "id": "74e8294b",
   "metadata": {},
   "outputs": [
    {
     "data": {
      "text/plain": [
       "array(['small', 'small', 'small', 'small', 'small', 'small', 'small',\n",
       "       'small', 'small', 'small', 'small', 'small', 'small', 'small',\n",
       "       'small', 'small', 'small', 'small', 'small', 'small', 'small',\n",
       "       'small', 'small', 'small', 'small', 'small', 'small', 'small',\n",
       "       'small', 'small', 'small', 'small', 'small', 'small', 'small',\n",
       "       'small', 'small', 'small', 'small', 'small', 'small', 'small',\n",
       "       'small', 'small', 'small', 'small', 'small', 'small', 'small',\n",
       "       'small', 'small', 'small', 'small', 'small', 'small', 'small',\n",
       "       'small', 'small', 'small', 'small', 'small', 'small', 'small',\n",
       "       'small', 'small', 'small', 'small', 'small', 'small', 'small',\n",
       "       'small', 'small', 'small', 'small', 'small', 'small', 'small',\n",
       "       'small', 'small', 'small', 'small', 'small', 'small', 'small',\n",
       "       'small', 'small', 'small', 'small', 'small', 'small', 'small',\n",
       "       'small', 'small', 'small', 'small', 'small', 'small', 'small',\n",
       "       'small', 'small', 'small', 'small', 'small', 'small', 'large',\n",
       "       'small', 'small', 'small', 'small', 'small', 'small', 'large',\n",
       "       'small', 'small', 'small', 'small', 'small', 'small', 'small',\n",
       "       'small', 'small', 'small', 'small', 'small', 'small', 'small',\n",
       "       'small', 'small', 'small', 'small', 'small', 'small', 'small',\n",
       "       'small', 'small', 'small', 'small', 'small', 'small', 'small',\n",
       "       'small', 'large', 'small', 'small', 'small', 'small', 'small',\n",
       "       'small', 'small', 'small', 'small', 'small', 'small', 'small',\n",
       "       'small', 'small', 'small', 'small', 'small', 'small', 'small',\n",
       "       'small', 'small', 'small', 'small', 'small', 'small', 'small',\n",
       "       'small', 'small', 'small', 'small', 'small', 'small', 'small',\n",
       "       'small', 'large', 'small', 'small', 'small', 'small', 'small',\n",
       "       'small', 'small', 'small', 'small', 'small', 'small', 'small',\n",
       "       'small', 'small', 'small', 'small', 'small', 'small', 'small',\n",
       "       'small', 'small', 'small', 'small', 'small', 'small', 'small',\n",
       "       'small', 'small', 'small', 'small', 'small', 'small', 'small',\n",
       "       'small', 'small', 'small', 'small', 'small', 'small', 'small',\n",
       "       'small', 'small', 'small', 'small', 'small', 'small', 'small',\n",
       "       'small', 'small', 'small', 'large', 'small', 'small', 'small',\n",
       "       'small', 'small', 'small', 'small', 'small', 'small', 'small',\n",
       "       'small', 'small', 'small', 'small', 'small', 'small', 'small',\n",
       "       'small', 'small', 'small', 'small', 'small', 'small', 'small',\n",
       "       'small', 'small', 'small', 'small', 'small', 'small', 'small',\n",
       "       'small', 'small', 'small', 'small', 'small', 'small', 'small',\n",
       "       'small', 'small', 'small', 'small', 'small', 'small', 'small',\n",
       "       'small', 'small', 'small', 'small', 'small', 'large', 'small',\n",
       "       'small', 'small', 'small', 'small', 'small', 'small', 'small',\n",
       "       'small', 'small', 'small', 'small', 'small', 'small', 'small',\n",
       "       'small', 'small', 'small', 'small', 'small', 'small', 'small',\n",
       "       'small', 'small', 'large', 'small', 'small', 'small', 'small',\n",
       "       'small', 'small', 'small', 'small', 'small', 'small', 'small',\n",
       "       'small', 'small', 'small', 'small', 'small', 'small', 'small',\n",
       "       'small', 'small', 'small', 'small', 'small', 'small', 'small',\n",
       "       'small', 'small', 'small', 'small', 'small', 'small', 'small',\n",
       "       'small', 'small', 'small', 'small', 'small', 'small', 'small',\n",
       "       'small', 'small', 'small', 'small', 'small', 'small', 'small',\n",
       "       'small', 'small', 'small', 'small', 'small', 'small', 'small',\n",
       "       'small', 'small', 'small', 'small'], dtype=object)"
      ]
     },
     "execution_count": 33,
     "metadata": {},
     "output_type": "execute_result"
    }
   ],
   "source": [
    "train_pred_rbf=model_rbf.predict(train[predictors])\n",
    "train_pred_rbf"
   ]
  },
  {
   "cell_type": "code",
   "execution_count": 34,
   "id": "f93361fa",
   "metadata": {},
   "outputs": [
    {
     "data": {
      "text/plain": [
       "array(['small', 'small', 'small', 'small', 'small', 'small', 'small',\n",
       "       'small', 'small', 'small', 'small', 'small', 'small', 'small',\n",
       "       'small', 'small', 'small', 'small', 'small', 'small', 'small',\n",
       "       'small', 'small', 'small', 'small', 'small', 'small', 'small',\n",
       "       'small', 'small', 'small', 'small', 'small', 'small', 'small',\n",
       "       'large', 'small', 'small', 'small', 'small', 'small', 'small',\n",
       "       'small', 'small', 'small', 'small', 'small', 'small', 'small',\n",
       "       'small', 'small', 'small', 'small', 'small', 'small', 'small',\n",
       "       'small', 'small', 'small', 'small', 'small', 'small', 'small',\n",
       "       'small', 'small', 'large', 'small', 'small', 'small', 'small',\n",
       "       'small', 'small', 'small', 'small', 'small', 'small', 'small',\n",
       "       'small', 'small', 'small', 'small', 'small', 'small', 'small',\n",
       "       'small', 'small', 'small', 'small', 'small', 'small', 'small',\n",
       "       'large', 'small', 'small', 'small', 'small', 'small', 'small',\n",
       "       'small', 'small', 'small', 'small', 'small', 'small', 'small',\n",
       "       'small', 'small', 'small', 'small', 'small', 'small', 'small',\n",
       "       'small', 'small', 'small', 'small', 'small', 'small', 'small',\n",
       "       'small', 'small', 'small', 'small', 'small', 'small', 'small',\n",
       "       'small', 'small', 'small', 'small', 'small', 'small', 'small',\n",
       "       'small', 'small', 'small', 'small', 'small', 'small', 'small',\n",
       "       'small', 'small', 'small', 'small', 'small', 'small', 'small',\n",
       "       'small', 'small', 'small', 'small', 'small', 'small', 'small',\n",
       "       'small', 'small'], dtype=object)"
      ]
     },
     "execution_count": 34,
     "metadata": {},
     "output_type": "execute_result"
    }
   ],
   "source": [
    "test_pred_rbf=model_rbf.predict(test[predictors])\n",
    "test_pred_rbf"
   ]
  },
  {
   "cell_type": "code",
   "execution_count": 35,
   "id": "105f7783",
   "metadata": {},
   "outputs": [
    {
     "data": {
      "text/plain": [
       "0.7617728531855956"
      ]
     },
     "execution_count": 35,
     "metadata": {},
     "output_type": "execute_result"
    }
   ],
   "source": [
    "train_rbf_accuracy=np.mean(train_pred_rbf==train[target])\n",
    "train_rbf_accuracy"
   ]
  },
  {
   "cell_type": "code",
   "execution_count": 36,
   "id": "54a9c936",
   "metadata": {},
   "outputs": [
    {
     "data": {
      "text/plain": [
       "0.7243589743589743"
      ]
     },
     "execution_count": 36,
     "metadata": {},
     "output_type": "execute_result"
    }
   ],
   "source": [
    "test_rbf_accuracy=np.mean(test_pred_rbf==test[target])\n",
    "test_rbf_accuracy"
   ]
  },
  {
   "cell_type": "code",
   "execution_count": null,
   "id": "6d7cc963",
   "metadata": {},
   "outputs": [],
   "source": []
  }
 ],
 "metadata": {
  "kernelspec": {
   "display_name": "Python 3 (ipykernel)",
   "language": "python",
   "name": "python3"
  },
  "language_info": {
   "codemirror_mode": {
    "name": "ipython",
    "version": 3
   },
   "file_extension": ".py",
   "mimetype": "text/x-python",
   "name": "python",
   "nbconvert_exporter": "python",
   "pygments_lexer": "ipython3",
   "version": "3.9.7"
  }
 },
 "nbformat": 4,
 "nbformat_minor": 5
}
